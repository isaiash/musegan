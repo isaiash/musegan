{
 "cells": [
  {
   "cell_type": "code",
   "execution_count": null,
   "metadata": {},
   "outputs": [],
   "source": [
    "import importlib\n",
    "import numpy as np\n",
    "import tensorflow as tf\n",
    "import os\n",
    "import shutil\n",
    "import distutils.dir_util\n",
    "import importlib\n",
    "import numpy as np\n",
    "import tensorflow as tf"
   ]
  },
  {
   "cell_type": "markdown",
   "metadata": {},
   "source": [
    "# Quick setup"
   ]
  },
  {
   "cell_type": "code",
   "execution_count": null,
   "metadata": {},
   "outputs": [],
   "source": [
    "SETUP = {\n",
    "    'model': 'musegan',\n",
    "\n",
    "    'exp_name': None,\n",
    "    # The experiment name. Also the name of the folder that will be created\n",
    "    # in './exp/' and all the experiment-related files are saved in that\n",
    "    # folder. None to determine automatically. The automatically-\n",
    "    # determined experiment name is based only on the values defined in the\n",
    "    # dictionary `SETUP`, so remember to provide the experiment name manually\n",
    "    # (so that you won't overwrite a trained model).\n",
    "\n",
    "    'prefix': 'lastfm_alternative',\n",
    "    # Prefix for the experiment name. Useful when training with different\n",
    "    # training data to avoid replacing the previous experiment outputs.\n",
    "\n",
    "    'training_data': 'lastfm_alternative_5b_phrase4',\n",
    "    # Path to the training data. The training data can be loaded from a npy\n",
    "    # file in the hard disk or from the shared memory using SharedArray package.\n",
    "    # Note that the data will be reshaped to (-1, num_bar, num_timestep,\n",
    "    # num_pitch, num_track) and remember to set these variable to proper values,\n",
    "    # which are defined in `CONFIG['model']`.\n",
    "\n",
    "    'training_data_location': 'sa',\n",
    "    # Location of the training data. 'hd' to load from a npy file stored in the\n",
    "    # hard disk. 'sa' to load from shared memory using SharedArray package.\n",
    "\n",
    "    'gpu': '0',\n",
    "    # The GPU index in os.environ['CUDA_VISIBLE_DEVICES'] to use.\n",
    "\n",
    "    'preset_g': 'hybrid',\n",
    "    # MuseGAN: {'composer', 'jamming', 'hybrid'}\n",
    "    # BinaryMuseGAN: {'proposed', 'proposed_small'}\n",
    "    # Use a preset network architecture for the generator or set to None and\n",
    "    # setup `CONFIG['model']['net_g']` to define the network architecture.\n",
    "\n",
    "    'preset_d': 'proposed_small',\n",
    "    # {'proposed', 'proposed_small', 'ablated', 'baseline', None}\n",
    "    # Use a preset network architecture for the discriminator or set to None\n",
    "    # and setup `CONFIG['model']['net_d']` to define the network architecture.\n",
    "\n",
    "    'pretrained_dir': None,\n",
    "    # The directory containing the pretrained model. None to retrain the\n",
    "    # model from scratch.\n",
    "\n",
    "    'verbose': True,\n",
    "    # True to print each batch details to stdout. False to print once an epoch.\n",
    "\n",
    "    'sample_along_training': True,\n",
    "    # True to generate samples along the training process. False for nothing.\n",
    "\n",
    "    'evaluate_along_training': True,\n",
    "    # True to run evaluation along the training process. False for nothing.\n",
    "}"
   ]
  },
  {
   "cell_type": "code",
   "execution_count": null,
   "metadata": {},
   "outputs": [],
   "source": [
    "CONFIG = {}"
   ]
  },
  {
   "cell_type": "markdown",
   "metadata": {},
   "source": [
    "## Tensorflow Configuration"
   ]
  },
  {
   "cell_type": "code",
   "execution_count": null,
   "metadata": {},
   "outputs": [],
   "source": [
    "os.environ['CUDA_VISIBLE_DEVICES'] = SETUP['gpu']\n",
    "CONFIG['tensorflow'] = tf.ConfigProto()\n",
    "CONFIG['tensorflow'].gpu_options.allow_growth = True"
   ]
  },
  {
   "cell_type": "markdown",
   "metadata": {},
   "source": [
    "## Experiment Configuration"
   ]
  },
  {
   "cell_type": "code",
   "execution_count": null,
   "metadata": {},
   "outputs": [],
   "source": [
    "CONFIG['exp'] = {\n",
    "    'model': None,\n",
    "    'exp_name': None,\n",
    "    'pretrained_dir': None,\n",
    "    'two_stage_training': None, # For BinaryMuseGAN only\n",
    "    'first_stage_dir': None, # For BinaryMuseGAN only\n",
    "}\n",
    "\n",
    "for key in ('model', 'pretrained_dir'):\n",
    "    if CONFIG['exp'][key] is None:\n",
    "        CONFIG['exp'][key] = SETUP[key]\n",
    "\n",
    "if SETUP['model'] == 'musegan':\n",
    "    if CONFIG['exp']['exp_name'] is None:\n",
    "        if SETUP['exp_name'] is not None:\n",
    "            CONFIG['exp']['exp_name'] = SETUP['exp_name']\n",
    "        else:\n",
    "            CONFIG['exp']['exp_name'] = '_'.join(\n",
    "                (SETUP['prefix'], 'g', SETUP['preset_g'], 'd',\n",
    "                 SETUP['preset_d']))"
   ]
  },
  {
   "cell_type": "markdown",
   "metadata": {},
   "source": [
    "## Data Configuration"
   ]
  },
  {
   "cell_type": "code",
   "execution_count": null,
   "metadata": {},
   "outputs": [],
   "source": [
    "CONFIG['data'] = {\n",
    "    'training_data': None,\n",
    "    'training_data_location': None,\n",
    "}\n",
    "\n",
    "for key in ('training_data', 'training_data_location'):\n",
    "    if CONFIG['data'][key] is None:\n",
    "        CONFIG['data'][key] = SETUP[key]"
   ]
  },
  {
   "cell_type": "markdown",
   "metadata": {},
   "source": [
    "## Training Configuration"
   ]
  },
  {
   "cell_type": "code",
   "execution_count": null,
   "metadata": {},
   "outputs": [],
   "source": [
    "CONFIG['train'] = {\n",
    "    'num_epoch': 2,\n",
    "    'verbose': None,\n",
    "    'sample_along_training': None,\n",
    "    'evaluate_along_training': None,\n",
    "}\n",
    "\n",
    "for key in ('verbose', 'sample_along_training', 'evaluate_along_training'):\n",
    "    if CONFIG['train'][key] is None:\n",
    "        CONFIG['train'][key] = SETUP[key]"
   ]
  },
  {
   "cell_type": "markdown",
   "metadata": {},
   "source": [
    "## Model Configuration"
   ]
  },
  {
   "cell_type": "code",
   "execution_count": null,
   "metadata": {},
   "outputs": [],
   "source": [
    "CONFIG['model'] = {\n",
    "    # Parameters\n",
    "    'batch_size': 16, # Note: tf.layers.conv3d_transpose requires a fixed batch\n",
    "                      # size in TensorFlow < 1.6\n",
    "    'gan': {\n",
    "        'type': 'wgan-gp', # 'gan', 'wgan', 'wgan-gp'\n",
    "        'clip_value': .01,\n",
    "        'gp_coefficient': 10.\n",
    "    },\n",
    "    'optimizer': {\n",
    "        # Parameters for the Adam optimizers\n",
    "        'lr': .002,\n",
    "        'beta1': .5,\n",
    "        'beta2': .9,\n",
    "        'epsilon': 1e-8\n",
    "    },\n",
    "\n",
    "    # Data\n",
    "    'num_bar': 4,\n",
    "    'num_beat': 4,\n",
    "    'num_pitch': 84,\n",
    "    'num_track': 5,\n",
    "    'num_timestep': 96,\n",
    "    'beat_resolution': 24,\n",
    "    'lowest_pitch': 24, # MIDI note number of the lowest pitch in data tensors\n",
    "\n",
    "    # Tracks\n",
    "    'track_names': (\n",
    "        'Drums', 'Piano', 'Guitar', 'Bass', 'Strings'\n",
    "        #'Ensemble', 'Reed', 'Synth Lead','Synth Pad'\n",
    "    ),\n",
    "    'programs': (0, 0, 24, 32, 48),# 64),#, 80, 88),\n",
    "    'is_drums': (True, False, False, False, False),\n",
    "\n",
    "    # Network architectures (define them here if not using the presets)\n",
    "    'net_g': None,\n",
    "    'net_d': None,\n",
    "    'net_r': None, # For BinaryMuseGAN only\n",
    "\n",
    "    # Playback\n",
    "    'pause_between_samples': 96,\n",
    "    'tempo': 90.,\n",
    "\n",
    "    # Samples\n",
    "    'num_sample': 16,\n",
    "    'sample_grid': (2, 8),\n",
    "\n",
    "    # Metrics\n",
    "    'metric_map': np.array([\n",
    "        # indices of tracks for the metrics to compute\n",
    "        [True] * 8, # empty bar rate\n",
    "        [True] * 8, # number of pitch used\n",
    "        [False] + [True] * 7, # qualified note rate\n",
    "        [False] + [True] * 7, # polyphonicity\n",
    "        [False] + [True] * 7, # in scale rate\n",
    "        [True] + [False] * 7, # in drum pattern rate\n",
    "        [False] + [True] * 7  # number of chroma used\n",
    "    ], dtype=bool),\n",
    "    'tonal_distance_pairs': [(1, 2)], # pairs to compute the tonal distance\n",
    "    'scale_mask': list(map(bool, [1, 0, 1, 0, 1, 1, 0, 1, 0, 1, 0, 1])),\n",
    "    'drum_filter': np.tile([1., .1, 0., 0., 0., .1], 16),\n",
    "    'tonal_matrix_coefficient': (1., 1., .5),\n",
    "\n",
    "    # Directories\n",
    "    'checkpoint_dir': None,\n",
    "    'sample_dir': None,\n",
    "    'eval_dir': None,\n",
    "    'log_dir': None,\n",
    "    'src_dir': None,\n",
    "}"
   ]
  },
  {
   "cell_type": "markdown",
   "metadata": {},
   "source": [
    "## Import preset network architectures"
   ]
  },
  {
   "cell_type": "code",
   "execution_count": null,
   "metadata": {},
   "outputs": [],
   "source": [
    "if CONFIG['model']['net_g'] is None:\n",
    "    IMPORTED = importlib.import_module(\n",
    "        '.'.join(('musegan', SETUP['model'], 'presets', 'generator',\n",
    "                  SETUP['preset_g'])))\n",
    "    CONFIG['model']['net_g'] = IMPORTED.NET_G\n",
    "\n",
    "if CONFIG['model']['net_d'] is None:\n",
    "    IMPORTED = importlib.import_module(\n",
    "        '.'.join(('musegan', SETUP['model'], 'presets', 'discriminator',\n",
    "                  SETUP['preset_d'])))\n",
    "    CONFIG['model']['net_d'] = IMPORTED.NET_D"
   ]
  },
  {
   "cell_type": "markdown",
   "metadata": {},
   "source": [
    "## Set default directories"
   ]
  },
  {
   "cell_type": "code",
   "execution_count": null,
   "metadata": {},
   "outputs": [],
   "source": [
    "for kv_pair in (('checkpoint_dir', 'checkpoints'), ('sample_dir', 'samples'),\n",
    "                ('eval_dir', 'eval'), ('log_dir', 'logs'), ('src_dir', 'src')):\n",
    "    if CONFIG['model'][kv_pair[0]] is None:\n",
    "        CONFIG['model'][kv_pair[0]] = os.path.join(\n",
    "            os.path.dirname(os.path.realpath(__file__)), 'exp', SETUP['model'],\n",
    "            CONFIG['exp']['exp_name'], kv_pair[1])"
   ]
  },
  {
   "cell_type": "markdown",
   "metadata": {},
   "source": [
    "## Make directories & Backup source code"
   ]
  },
  {
   "cell_type": "code",
   "execution_count": null,
   "metadata": {},
   "outputs": [],
   "source": [
    "for path in (CONFIG['model']['checkpoint_dir'], CONFIG['model']['sample_dir'],\n",
    "             CONFIG['model']['eval_dir'], CONFIG['model']['log_dir'],\n",
    "             CONFIG['model']['src_dir']):\n",
    "    if not os.path.exists(path):\n",
    "        os.makedirs(path)"
   ]
  },
  {
   "cell_type": "markdown",
   "metadata": {},
   "source": [
    "## Backup source code"
   ]
  },
  {
   "cell_type": "code",
   "execution_count": null,
   "metadata": {},
   "outputs": [],
   "source": [
    "for path in os.listdir(os.path.dirname(os.path.realpath(__file__))):\n",
    "    if os.path.isfile(path):\n",
    "        if path.endswith('.py'):\n",
    "            shutil.copyfile(os.path.basename(path),\n",
    "                            os.path.join(CONFIG['model']['src_dir'],\n",
    "                                         os.path.basename(path)))\n",
    "\n",
    "distutils.dir_util.copy_tree(\n",
    "    os.path.join(os.path.dirname(os.path.realpath(__file__)), 'musegan'),\n",
    "    os.path.join(CONFIG['model']['src_dir'], 'musegan')\n",
    ")"
   ]
  },
  {
   "cell_type": "code",
   "execution_count": null,
   "metadata": {},
   "outputs": [],
   "source": [
    "MODELS = importlib.import_module(\n",
    "    '.'.join(('musegan', CONFIG['exp']['model'], 'models')))"
   ]
  },
  {
   "cell_type": "code",
   "execution_count": null,
   "metadata": {},
   "outputs": [],
   "source": [
    "def main():\n",
    "    \"\"\"Main function.\"\"\"\n",
    "    if CONFIG['exp']['model'] not in ('musegan', 'bmusegan'):\n",
    "        raise ValueError(\"Unrecognizable model name\")\n",
    "\n",
    "    print(\"Start experiment: {}\".format(CONFIG['exp']['exp_name']))\n",
    "\n",
    "    # Load training data\n",
    "    x_train = load_data()\n",
    "\n",
    "    # Open TensorFlow session\n",
    "    with tf.Session(config=CONFIG['tensorflow']) as sess:\n",
    "        if CONFIG['exp']['model'] == 'musegan':\n",
    "\n",
    "            # Create model\n",
    "            gan = MODELS.GAN(sess, CONFIG['model'])\n",
    "\n",
    "            # Initialize all variables\n",
    "            gan.init_all()\n",
    "\n",
    "            # Load pretrained model if given\n",
    "            if CONFIG['exp']['pretrained_dir'] is not None:\n",
    "                gan.load_latest(CONFIG['exp']['pretrained_dir'])\n",
    "\n",
    "            # Train the model\n",
    "            gan.train(x_train, CONFIG['train'])"
   ]
  },
  {
   "cell_type": "code",
   "execution_count": null,
   "metadata": {},
   "outputs": [],
   "source": [
    "if __name__ == '__main__':\n",
    "    main()"
   ]
  },
  {
   "cell_type": "code",
   "execution_count": null,
   "metadata": {},
   "outputs": [],
   "source": []
  }
 ],
 "metadata": {
  "kernelspec": {
   "display_name": "Python 3",
   "language": "python",
   "name": "python3"
  },
  "language_info": {
   "codemirror_mode": {
    "name": "ipython",
    "version": 3
   },
   "file_extension": ".py",
   "mimetype": "text/x-python",
   "name": "python",
   "nbconvert_exporter": "python",
   "pygments_lexer": "ipython3",
   "version": "3.6.4"
  }
 },
 "nbformat": 4,
 "nbformat_minor": 2
}
